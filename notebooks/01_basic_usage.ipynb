{
 "cells": [
  {
   "cell_type": "markdown",
   "metadata": {},
   "source": [
    "# Basic Usage - Simple Backtest Framework\n",
    "\n",
    "This notebook demonstrates the basic usage of the simple-backtest library using real market data from Yahoo Finance."
   ]
  },
  {
   "cell_type": "code",
   "execution_count": null,
   "metadata": {},
   "outputs": [],
   "source": [
    "import yfinance as yf\n",
    "import pandas as pd\n",
    "import numpy as np\n",
    "from datetime import datetime\n",
    "\n",
    "from simple_backtest import Backtest, BacktestConfig\n",
    "from simple_backtest.strategy.buy_and_hold import BuyAndHoldStrategy\n",
    "from simple_backtest.strategy.moving_average import MovingAverageStrategy\n",
    "from simple_backtest.visualization.plotter import plot_equity_curve"
   ]
  },
  {
   "cell_type": "markdown",
   "metadata": {},
   "source": [
    "## 1. Download Market Data\n",
    "\n",
    "Let's download Apple (AAPL) stock data from Yahoo Finance."
   ]
  },
  {
   "cell_type": "code",
   "execution_count": null,
   "metadata": {},
   "outputs": [],
   "source": [
    "# Download data\n",
    "ticker = \"AAPL\"\n",
    "start_date = \"2020-01-01\"\n",
    "end_date = \"2023-12-31\"\n",
    "\n",
    "data = yf.download(ticker, start=start_date, end=end_date)\n",
    "print(f\"Downloaded {len(data)} rows of data\")\n",
    "print(f\"Date range: {data.index[0]} to {data.index[-1]}\")\n",
    "data.head()"
   ]
  },
  {
   "cell_type": "markdown",
   "metadata": {},
   "source": [
    "## 2. Configure Backtest\n",
    "\n",
    "Set up the backtest configuration with initial capital, lookback period, and commission."
   ]
  },
  {
   "cell_type": "code",
   "execution_count": null,
   "metadata": {},
   "outputs": [],
   "source": [
    "config = BacktestConfig(\n",
    "    initial_capital=10000.0,\n",
    "    lookback_period=50,\n",
    "    commission_type=\"percentage\",\n",
    "    commission_value=0.001,  # 0.1% commission\n",
    "    execution_price=\"open\",\n",
    "    parallel_execution=True,\n",
    "    risk_free_rate=0.02,  # 2% annual risk-free rate\n",
    ")\n",
    "\n",
    "print(config)"
   ]
  },
  {
   "cell_type": "markdown",
   "metadata": {},
   "source": [
    "## 3. Buy and Hold Strategy\n",
    "\n",
    "The simplest strategy - buy at the start and hold until the end."
   ]
  },
  {
   "cell_type": "code",
   "execution_count": null,
   "metadata": {},
   "outputs": [],
   "source": [
    "# Create buy and hold strategy\n",
    "buy_hold = BuyAndHoldStrategy(shares=100)\n",
    "\n",
    "# Run backtest\n",
    "backtest = Backtest(data=data, config=config)\n",
    "results = backtest.run([buy_hold])\n",
    "\n",
    "# Display metrics\n",
    "print(\"\\n=== Buy and Hold Strategy Results ===\")\n",
    "for key, value in results[buy_hold.get_name()]['metrics'].items():\n",
    "    print(f\"{key:25s}: {value:>12.2f}\")"
   ]
  },
  {
   "cell_type": "code",
   "execution_count": null,
   "metadata": {},
   "outputs": [],
   "source": [
    "# Plot equity curve\n",
    "fig = plot_equity_curve(results)\n",
    "fig.show()"
   ]
  },
  {
   "cell_type": "markdown",
   "metadata": {},
   "source": [
    "## 4. Moving Average Crossover Strategy\n",
    "\n",
    "Buy when short MA crosses above long MA, sell when it crosses below."
   ]
  },
  {
   "cell_type": "code",
   "execution_count": null,
   "metadata": {},
   "outputs": [],
   "source": [
    "# Create moving average strategy\n",
    "ma_strategy = MovingAverageStrategy(\n",
    "    short_window=10,\n",
    "    long_window=30,\n",
    "    shares=100\n",
    ")\n",
    "\n",
    "# Run backtest\n",
    "backtest = Backtest(data=data, config=config)\n",
    "results = backtest.run([ma_strategy])\n",
    "\n",
    "# Display metrics\n",
    "print(\"\\n=== Moving Average Strategy Results ===\")\n",
    "for key, value in results[ma_strategy.get_name()]['metrics'].items():\n",
    "    print(f\"{key:25s}: {value:>12.2f}\")"
   ]
  },
  {
   "cell_type": "code",
   "execution_count": null,
   "metadata": {},
   "outputs": [],
   "source": [
    "# Plot equity curve\n",
    "fig = plot_equity_curve(results)\n",
    "fig.show()"
   ]
  },
  {
   "cell_type": "markdown",
   "metadata": {},
   "source": [
    "## 5. Compare Multiple Strategies\n",
    "\n",
    "Let's compare different moving average configurations."
   ]
  },
  {
   "cell_type": "code",
   "execution_count": null,
   "metadata": {},
   "outputs": [],
   "source": [
    "# Create multiple strategies\n",
    "strategies = [\n",
    "    BuyAndHoldStrategy(shares=100),\n",
    "    MovingAverageStrategy(short_window=5, long_window=20, shares=100),\n",
    "    MovingAverageStrategy(short_window=10, long_window=30, shares=100),\n",
    "    MovingAverageStrategy(short_window=20, long_window=50, shares=100),\n",
    "]\n",
    "\n",
    "# Run all strategies in parallel\n",
    "backtest = Backtest(data=data, config=config)\n",
    "results = backtest.run(strategies)\n",
    "\n",
    "# Compare metrics\n",
    "print(\"\\n=== Strategy Comparison ===\")\n",
    "comparison_df = pd.DataFrame({\n",
    "    name: res['metrics'] \n",
    "    for name, res in results.items() \n",
    "    if name != 'benchmark'\n",
    "}).T\n",
    "\n",
    "comparison_df[['total_return', 'sharpe_ratio', 'max_drawdown', 'win_rate', 'total_trades']]"
   ]
  },
  {
   "cell_type": "code",
   "execution_count": null,
   "metadata": {},
   "outputs": [],
   "source": [
    "# Plot all equity curves\n",
    "fig = plot_equity_curve(results)\n",
    "fig.show()"
   ]
  },
  {
   "cell_type": "markdown",
   "metadata": {},
   "source": [
    "## 6. Analyze Trade History\n",
    "\n",
    "Let's look at the trade history for one of the strategies."
   ]
  },
  {
   "cell_type": "code",
   "execution_count": null,
   "metadata": {},
   "outputs": [],
   "source": [
    "# Get trade history\n",
    "strategy_name = \"MA_10_30\"\n",
    "trades = results[strategy_name]['trade_history']\n",
    "\n",
    "# Convert to DataFrame\n",
    "trades_df = pd.DataFrame(trades)\n",
    "trades_df = trades_df[['timestamp', 'signal', 'shares', 'price', 'commission', 'pnl', 'cash']]\n",
    "\n",
    "print(f\"\\nTotal trades: {len(trades_df)}\")\n",
    "trades_df.head(10)"
   ]
  },
  {
   "cell_type": "code",
   "execution_count": null,
   "metadata": {},
   "outputs": [],
   "source": [
    "# Analyze profitable vs losing trades\n",
    "sell_trades = trades_df[trades_df['signal'] == 'sell']\n",
    "profitable = sell_trades[sell_trades['pnl'] > 0]\n",
    "losing = sell_trades[sell_trades['pnl'] <= 0]\n",
    "\n",
    "print(f\"Profitable trades: {len(profitable)} ({len(profitable)/len(sell_trades)*100:.1f}%)\")\n",
    "print(f\"Losing trades: {len(losing)} ({len(losing)/len(sell_trades)*100:.1f}%)\")\n",
    "print(f\"Average profit: ${profitable['pnl'].mean():.2f}\")\n",
    "print(f\"Average loss: ${losing['pnl'].mean():.2f}\")"
   ]
  }
 ],
 "metadata": {
  "kernelspec": {
   "display_name": "Python 3",
   "language": "python",
   "name": "python3"
  },
  "language_info": {
   "codemirror_mode": {
    "name": "ipython",
    "version": 3
   },
   "file_extension": ".py",
   "mimetype": "text/x-python",
   "name": "python",
   "nbconvert_exporter": "python",
   "pygments_lexer": "ipython3",
   "version": "3.10.0"
  }
 },
 "nbformat": 4,
 "nbformat_minor": 4
}

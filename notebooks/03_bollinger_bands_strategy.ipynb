{
 "cells": [
  {
   "cell_type": "markdown",
   "metadata": {},
   "source": [
    "# Bollinger Bands Strategy\n",
    "\n",
    "This notebook demonstrates a mean reversion strategy using Bollinger Bands.\n",
    "\n",
    "**Strategy Logic:**\n",
    "- Buy when price touches lower band (oversold)\n",
    "- Sell when price touches upper band (overbought)\n",
    "- Bollinger Bands = Moving Average ± (Standard Deviation × multiplier)"
   ]
  },
  {
   "cell_type": "code",
   "execution_count": null,
   "metadata": {},
   "outputs": [],
   "source": [
    "import yfinance as yf\n",
    "import pandas as pd\n",
    "import numpy as np\n",
    "from typing import Any, Dict, List\n",
    "\n",
    "from simple_backtest import Backtest, BacktestConfig\n",
    "from simple_backtest.strategy.strategy_base import Strategy\n",
    "from simple_backtest.visualization.plotter import plot_equity_curve"
   ]
  },
  {
   "cell_type": "markdown",
   "metadata": {},
   "source": [
    "## 1. Implement Bollinger Bands Strategy"
   ]
  },
  {
   "cell_type": "code",
   "execution_count": null,
   "metadata": {},
   "outputs": [],
   "source": [
    "class BollingerBandsStrategy(Strategy):\n",
    "    \"\"\"Bollinger Bands mean reversion strategy.\"\"\"\n",
    "    \n",
    "    def __init__(self, window: int = 20, num_std: float = 2.0, shares: float = 100):\n",
    "        \"\"\"Initialize Bollinger Bands strategy.\n",
    "        \n",
    "        :param window: Moving average window\n",
    "        :param num_std: Number of standard deviations for bands\n",
    "        :param shares: Shares to trade\n",
    "        \"\"\"\n",
    "        super().__init__(name=f\"BB_{window}_{num_std}\")\n",
    "        self.window = window\n",
    "        self.num_std = num_std\n",
    "        self.shares = shares\n",
    "    \n",
    "    def calculate_bollinger_bands(self, prices: pd.Series):\n",
    "        \"\"\"Calculate Bollinger Bands.\n",
    "        \n",
    "        :return: (middle_band, upper_band, lower_band, current_price)\n",
    "        \"\"\"\n",
    "        if len(prices) < self.window:\n",
    "            return None, None, None, prices.iloc[-1]\n",
    "        \n",
    "        # Calculate middle band (SMA)\n",
    "        middle_band = prices.tail(self.window).mean()\n",
    "        \n",
    "        # Calculate standard deviation\n",
    "        std = prices.tail(self.window).std()\n",
    "        \n",
    "        # Calculate upper and lower bands\n",
    "        upper_band = middle_band + (self.num_std * std)\n",
    "        lower_band = middle_band - (self.num_std * std)\n",
    "        \n",
    "        current_price = prices.iloc[-1]\n",
    "        \n",
    "        return middle_band, upper_band, lower_band, current_price\n",
    "    \n",
    "    def predict(self, data: pd.DataFrame, trade_history: List[Dict[str, Any]]) -> Dict[str, Any]:\n",
    "        \"\"\"Generate signal based on Bollinger Bands.\"\"\"\n",
    "        # Calculate Bollinger Bands\n",
    "        middle, upper, lower, current_price = self.calculate_bollinger_bands(data['Close'])\n",
    "        \n",
    "        if middle is None:\n",
    "            return {\"signal\": \"hold\", \"size\": 0, \"order_ids\": None}\n",
    "        \n",
    "        # Check if we have open positions\n",
    "        has_position = False\n",
    "        if trade_history:\n",
    "            total_bought = sum(t['shares'] for t in trade_history if t['signal'] == 'buy')\n",
    "            total_sold = sum(t['shares'] for t in trade_history if t['signal'] == 'sell')\n",
    "            has_position = total_bought > total_sold\n",
    "        \n",
    "        # Generate signal\n",
    "        if current_price <= lower and not has_position:\n",
    "            # Price at or below lower band - oversold, buy\n",
    "            return {\"signal\": \"buy\", \"size\": self.shares, \"order_ids\": None}\n",
    "        elif current_price >= upper and has_position:\n",
    "            # Price at or above upper band - overbought, sell\n",
    "            return {\"signal\": \"sell\", \"size\": self.shares, \"order_ids\": None}\n",
    "        else:\n",
    "            return {\"signal\": \"hold\", \"size\": 0, \"order_ids\": None}"
   ]
  },
  {
   "cell_type": "markdown",
   "metadata": {},
   "source": [
    "## 2. Download Market Data"
   ]
  },
  {
   "cell_type": "code",
   "execution_count": null,
   "metadata": {},
   "outputs": [],
   "source": [
    "# Download Microsoft data\n",
    "ticker = \"MSFT\"\n",
    "start_date = \"2020-01-01\"\n",
    "end_date = \"2023-12-31\"\n",
    "\n",
    "data = yf.download(ticker, start=start_date, end=end_date)\n",
    "print(f\"Downloaded {len(data)} rows of {ticker} data\")\n",
    "data.head()"
   ]
  },
  {
   "cell_type": "markdown",
   "metadata": {},
   "source": [
    "## 3. Visualize Bollinger Bands"
   ]
  },
  {
   "cell_type": "code",
   "execution_count": null,
   "metadata": {},
   "outputs": [],
   "source": [
    "import matplotlib.pyplot as plt\n",
    "\n",
    "# Calculate Bollinger Bands for visualization\n",
    "window = 20\n",
    "num_std = 2.0\n",
    "\n",
    "data['Middle_Band'] = data['Close'].rolling(window=window).mean()\n",
    "data['Std'] = data['Close'].rolling(window=window).std()\n",
    "data['Upper_Band'] = data['Middle_Band'] + (num_std * data['Std'])\n",
    "data['Lower_Band'] = data['Middle_Band'] - (num_std * data['Std'])\n",
    "\n",
    "# Plot recent period\n",
    "recent_data = data.tail(200)\n",
    "\n",
    "plt.figure(figsize=(14, 7))\n",
    "plt.plot(recent_data.index, recent_data['Close'], label='Close Price', linewidth=2)\n",
    "plt.plot(recent_data.index, recent_data['Middle_Band'], label='Middle Band (20 SMA)', linestyle='--', alpha=0.7)\n",
    "plt.plot(recent_data.index, recent_data['Upper_Band'], label='Upper Band', linestyle='--', color='red', alpha=0.7)\n",
    "plt.plot(recent_data.index, recent_data['Lower_Band'], label='Lower Band', linestyle='--', color='green', alpha=0.7)\n",
    "plt.fill_between(recent_data.index, recent_data['Upper_Band'], recent_data['Lower_Band'], alpha=0.1, color='gray')\n",
    "\n",
    "plt.xlabel('Date')\n",
    "plt.ylabel('Price ($)')\n",
    "plt.title(f'{ticker} Price with Bollinger Bands (20, 2)')\n",
    "plt.legend()\n",
    "plt.grid(True, alpha=0.3)\n",
    "plt.tight_layout()\n",
    "plt.show()"
   ]
  },
  {
   "cell_type": "markdown",
   "metadata": {},
   "source": [
    "## 4. Run Backtest with Default Parameters"
   ]
  },
  {
   "cell_type": "code",
   "execution_count": null,
   "metadata": {},
   "outputs": [],
   "source": [
    "# Configure backtest\n",
    "config = BacktestConfig(\n",
    "    initial_capital=10000.0,\n",
    "    lookback_period=50,\n",
    "    commission_type=\"percentage\",\n",
    "    commission_value=0.001,\n",
    "    execution_price=\"open\",\n",
    "    risk_free_rate=0.02,\n",
    ")\n",
    "\n",
    "# Create and run Bollinger Bands strategy\n",
    "bb_strategy = BollingerBandsStrategy(window=20, num_std=2.0, shares=50)\n",
    "\n",
    "backtest = Backtest(data=data, config=config)\n",
    "results = backtest.run([bb_strategy])\n",
    "\n",
    "# Display metrics\n",
    "print(\"\\n=== Bollinger Bands Strategy Results ===\")\n",
    "for key, value in results[bb_strategy.get_name()]['metrics'].items():\n",
    "    print(f\"{key:25s}: {value:>12.2f}\")"
   ]
  },
  {
   "cell_type": "code",
   "execution_count": null,
   "metadata": {},
   "outputs": [],
   "source": [
    "# Plot equity curve\n",
    "fig = plot_equity_curve(results)\n",
    "fig.show()"
   ]
  },
  {
   "cell_type": "markdown",
   "metadata": {},
   "source": [
    "## 5. Parameter Optimization\n",
    "\n",
    "Test different window sizes and standard deviation multipliers."
   ]
  },
  {
   "cell_type": "code",
   "execution_count": null,
   "metadata": {},
   "outputs": [],
   "source": [
    "# Test different parameters\n",
    "strategies = []\n",
    "\n",
    "# Test different windows\n",
    "for window in [10, 20, 30]:\n",
    "    strategies.append(BollingerBandsStrategy(window=window, num_std=2.0, shares=50))\n",
    "\n",
    "# Test different standard deviations\n",
    "for num_std in [1.5, 2.0, 2.5]:\n",
    "    if num_std != 2.0:  # Avoid duplicate\n",
    "        strategies.append(BollingerBandsStrategy(window=20, num_std=num_std, shares=50))\n",
    "\n",
    "# Run all strategies\n",
    "backtest = Backtest(data=data, config=config)\n",
    "results = backtest.run(strategies)\n",
    "\n",
    "# Compare results\n",
    "comparison_df = pd.DataFrame({\n",
    "    name: res['metrics'] \n",
    "    for name, res in results.items() \n",
    "    if name != 'benchmark'\n",
    "}).T\n",
    "\n",
    "print(\"\\n=== Bollinger Bands Parameter Comparison ===\")\n",
    "comparison_df[['total_return', 'sharpe_ratio', 'max_drawdown', 'win_rate', 'total_trades']].sort_values('sharpe_ratio', ascending=False)"
   ]
  },
  {
   "cell_type": "code",
   "execution_count": null,
   "metadata": {},
   "outputs": [],
   "source": [
    "# Plot all equity curves\n",
    "fig = plot_equity_curve(results)\n",
    "fig.show()"
   ]
  },
  {
   "cell_type": "markdown",
   "metadata": {},
   "source": [
    "## 6. Analyze Trade Timing"
   ]
  },
  {
   "cell_type": "code",
   "execution_count": null,
   "metadata": {},
   "outputs": [],
   "source": [
    "# Get best performing strategy\n",
    "best_strategy = comparison_df['sharpe_ratio'].idxmax()\n",
    "trades = results[best_strategy]['trade_history']\n",
    "\n",
    "# Convert to DataFrame\n",
    "trades_df = pd.DataFrame(trades)\n",
    "trades_df['timestamp'] = pd.to_datetime(trades_df['timestamp'])\n",
    "\n",
    "# Plot trades on price chart\n",
    "plt.figure(figsize=(14, 7))\n",
    "plt.plot(data.index, data['Close'], label='Close Price', alpha=0.7)\n",
    "plt.plot(data.index, data['Upper_Band'], 'r--', alpha=0.5, label='Upper Band')\n",
    "plt.plot(data.index, data['Lower_Band'], 'g--', alpha=0.5, label='Lower Band')\n",
    "\n",
    "# Mark buy and sell signals\n",
    "buys = trades_df[trades_df['signal'] == 'buy']\n",
    "sells = trades_df[trades_df['signal'] == 'sell']\n",
    "\n",
    "plt.scatter(buys['timestamp'], buys['price'], color='green', marker='^', s=100, label='Buy', zorder=5)\n",
    "plt.scatter(sells['timestamp'], sells['price'], color='red', marker='v', s=100, label='Sell', zorder=5)\n",
    "\n",
    "plt.xlabel('Date')\n",
    "plt.ylabel('Price ($)')\n",
    "plt.title(f'{ticker} - Trade Entry/Exit Points - {best_strategy}')\n",
    "plt.legend()\n",
    "plt.grid(True, alpha=0.3)\n",
    "plt.tight_layout()\n",
    "plt.show()\n",
    "\n",
    "print(f\"\\nBest Strategy: {best_strategy}\")\n",
    "print(f\"Total Trades: {len(trades_df)}\")"
   ]
  },
  {
   "cell_type": "markdown",
   "metadata": {},
   "source": [
    "## 7. Risk Analysis"
   ]
  },
  {
   "cell_type": "code",
   "execution_count": null,
   "metadata": {},
   "outputs": [],
   "source": [
    "# Analyze returns distribution\n",
    "portfolio_values = results[best_strategy]['portfolio_values']\n",
    "returns = results[best_strategy]['returns']\n",
    "\n",
    "fig, axes = plt.subplots(2, 2, figsize=(14, 10))\n",
    "\n",
    "# Returns distribution\n",
    "axes[0, 0].hist(returns * 100, bins=50, edgecolor='black', alpha=0.7)\n",
    "axes[0, 0].axvline(x=0, color='r', linestyle='--')\n",
    "axes[0, 0].set_xlabel('Daily Returns (%)')\n",
    "axes[0, 0].set_ylabel('Frequency')\n",
    "axes[0, 0].set_title('Returns Distribution')\n",
    "axes[0, 0].grid(True, alpha=0.3)\n",
    "\n",
    "# Drawdown\n",
    "cumulative_max = portfolio_values.cummax()\n",
    "drawdown = (portfolio_values - cumulative_max) / cumulative_max * 100\n",
    "axes[0, 1].fill_between(drawdown.index, drawdown, 0, alpha=0.3, color='red')\n",
    "axes[0, 1].plot(drawdown.index, drawdown, color='red')\n",
    "axes[0, 1].set_xlabel('Date')\n",
    "axes[0, 1].set_ylabel('Drawdown (%)')\n",
    "axes[0, 1].set_title('Drawdown Over Time')\n",
    "axes[0, 1].grid(True, alpha=0.3)\n",
    "\n",
    "# Monthly returns heatmap (simplified)\n",
    "monthly_returns = returns.resample('ME').sum() * 100\n",
    "axes[1, 0].bar(range(len(monthly_returns)), monthly_returns.values)\n",
    "axes[1, 0].axhline(y=0, color='black', linestyle='-', linewidth=0.5)\n",
    "axes[1, 0].set_xlabel('Month')\n",
    "axes[1, 0].set_ylabel('Monthly Return (%)')\n",
    "axes[1, 0].set_title('Monthly Returns')\n",
    "axes[1, 0].grid(True, alpha=0.3, axis='y')\n",
    "\n",
    "# Rolling Sharpe ratio\n",
    "rolling_sharpe = returns.rolling(window=60).mean() / returns.rolling(window=60).std() * np.sqrt(252)\n",
    "axes[1, 1].plot(rolling_sharpe.index, rolling_sharpe)\n",
    "axes[1, 1].axhline(y=0, color='black', linestyle='--', linewidth=0.5)\n",
    "axes[1, 1].set_xlabel('Date')\n",
    "axes[1, 1].set_ylabel('Sharpe Ratio')\n",
    "axes[1, 1].set_title('60-Day Rolling Sharpe Ratio')\n",
    "axes[1, 1].grid(True, alpha=0.3)\n",
    "\n",
    "plt.tight_layout()\n",
    "plt.show()"
   ]
  }
 ],
 "metadata": {
  "kernelspec": {
   "display_name": "Python 3",
   "language": "python",
   "name": "python3"
  },
  "language_info": {
   "codemirror_mode": {
    "name": "ipython",
    "version": 3
   },
   "file_extension": ".py",
   "mimetype": "text/x-python",
   "name": "python",
   "nbconvert_exporter": "python",
   "pygments_lexer": "ipython3",
   "version": "3.10.0"
  }
 },
 "nbformat": 4,
 "nbformat_minor": 4
}

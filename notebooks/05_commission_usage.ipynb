{
 "cells": [
  {
   "cell_type": "markdown",
   "metadata": {},
   "source": [
    "# Commission Models and Custom Commissions\n",
    "\n",
    "This notebook demonstrates:\n",
    "\n",
    "1. **Percentage Commission** - Most common (e.g., 0.1% per trade)\n",
    "2. **Flat Commission** - Fixed fee per trade (e.g., $5 per trade)\n",
    "3. **Tiered Commission** - Different rates for different trade sizes\n",
    "4. **Custom Commission** - Creating your own commission structure\n",
    "5. **Impact Analysis** - How commissions affect strategy performance\n",
    "\n",
    "Understanding commission costs is **critical** for realistic backtesting!"
   ]
  },
  {
   "cell_type": "code",
   "execution_count": 1,
   "metadata": {},
   "outputs": [],
   "source": [
    "import yfinance as yf\n",
    "import pandas as pd\n",
    "import numpy as np\n",
    "\n",
    "from simple_backtest import BacktestConfig, Backtest\n",
    "from simple_backtest.strategy import MovingAverageStrategy\n",
    "from simple_backtest.commission import Commission, PercentageCommission, FlatCommission, TieredCommission\n",
    "from simple_backtest.visualization import plot_equity_curve"
   ]
  },
  {
   "cell_type": "markdown",
   "metadata": {},
   "source": [
    "## Load Data"
   ]
  },
  {
   "cell_type": "code",
   "execution_count": 2,
   "metadata": {},
   "outputs": [
    {
     "name": "stderr",
     "output_type": "stream",
     "text": [
      "/var/folders/9y/pp82h2912h3781myzdncvs_r0000gp/T/ipykernel_55185/3318573726.py:3: FutureWarning: YF.download() has changed argument auto_adjust default to True\n",
      "  data = yf.download(ticker, start=\"2020-01-01\", end=\"2023-12-31\", progress=False)\n"
     ]
    },
    {
     "name": "stdout",
     "output_type": "stream",
     "text": [
      "Data shape: (1006, 5)\n",
      "Date range: 2020-01-02 00:00:00 to 2023-12-29 00:00:00\n"
     ]
    }
   ],
   "source": [
    "# Download data\n",
    "ticker = \"SPY\"\n",
    "data = yf.download(ticker, start=\"2020-01-01\", end=\"2023-12-31\", progress=False)\n",
    "data = data.dropna()\n",
    "\n",
    "print(f\"Data shape: {data.shape}\")\n",
    "print(f\"Date range: {data.index[0]} to {data.index[-1]}\")"
   ]
  },
  {
   "cell_type": "markdown",
   "metadata": {},
   "source": [
    "# Download data\n",
    "ticker = \"SPY\"\n",
    "data = yf.download(ticker, start=\"2020-01-01\", end=\"2023-12-31\", progress=False)\n",
    "\n",
    "# Handle MultiIndex columns if present\n",
    "if isinstance(data.columns, pd.MultiIndex):\n",
    "    data.columns = data.columns.get_level_values(0)\n",
    "\n",
    "data = data.dropna()\n",
    "\n",
    "print(f\"Data shape: {data.shape}\")\n",
    "print(f\"Date range: {data.index[0]} to {data.index[-1]}\")"
   ]
  },
  {
   "cell_type": "code",
   "execution_count": 3,
   "metadata": {},
   "outputs": [
    {
     "name": "stdout",
     "output_type": "stream",
     "text": [
      "Percentage Commission Configuration:\n",
      "  Commission: 0.1% per trade\n",
      "\n",
      "Examples:\n",
      "  Trade $1,000:  Commission = $1.00\n",
      "  Trade $5,000:  Commission = $5.00\n",
      "  Trade $10,000: Commission = $10.00\n"
     ]
    }
   ],
   "source": [
    "# Test percentage commission\n",
    "config_percentage = BacktestConfig(\n",
    "    initial_capital=10000.0,\n",
    "    lookback_period=50,\n",
    "    commission_type=\"percentage\",\n",
    "    commission_value=0.001,  # 0.1% per trade\n",
    "    risk_free_rate=0.02\n",
    ")\n",
    "\n",
    "print(\"Percentage Commission Configuration:\")\n",
    "print(f\"  Commission: {config_percentage.commission_value * 100}% per trade\")\n",
    "print(f\"\\nExamples:\")\n",
    "print(f\"  Trade $1,000:  Commission = ${1000 * 0.001:.2f}\")\n",
    "print(f\"  Trade $5,000:  Commission = ${5000 * 0.001:.2f}\")\n",
    "print(f\"  Trade $10,000: Commission = ${10000 * 0.001:.2f}\")"
   ]
  },
  {
   "cell_type": "code",
   "execution_count": 4,
   "metadata": {},
   "outputs": [
    {
     "name": "stderr",
     "output_type": "stream",
     "text": [
      "Running strategies: 100%|██████████| 1/1 [00:00<00:00, 13.64it/s]"
     ]
    },
    {
     "name": "stdout",
     "output_type": "stream",
     "text": [
      "\n",
      "Performance with 0.1% Commission:\n",
      "  Total Return:  1089.29%\n",
      "  Total Trades:  31\n",
      "  Sharpe Ratio:  0.19\n"
     ]
    },
    {
     "name": "stderr",
     "output_type": "stream",
     "text": [
      "\n"
     ]
    }
   ],
   "source": [
    "# Run backtest with percentage commission\n",
    "strategy = MovingAverageStrategy(short_window=10, long_window=30, shares=10)\n",
    "\n",
    "backtest = Backtest(data=data, config=config_percentage)\n",
    "results_percentage = backtest.run([strategy])\n",
    "\n",
    "metrics = results_percentage[strategy.get_name()]['metrics']\n",
    "print(f\"\\nPerformance with {config_percentage.commission_value*100}% Commission:\")\n",
    "print(f\"  Total Return:  {metrics['total_return']*100:.2f}%\")\n",
    "print(f\"  Total Trades:  {metrics['total_trades']}\")\n",
    "print(f\"  Sharpe Ratio:  {metrics['sharpe_ratio']:.2f}\")"
   ]
  },
  {
   "cell_type": "markdown",
   "metadata": {},
   "source": [
    "## 2. Flat Commission\n",
    "\n",
    "**Fixed fee per trade**, regardless of size.\n",
    "\n",
    "Examples:\n",
    "- Robinhood: $0 (free trading)\n",
    "- Traditional brokers: $5-$10 per trade\n",
    "- Some forex brokers: $0-$5"
   ]
  },
  {
   "cell_type": "code",
   "execution_count": 5,
   "metadata": {},
   "outputs": [
    {
     "name": "stdout",
     "output_type": "stream",
     "text": [
      "Flat Commission Configuration:\n",
      "  Commission: $5.00 per trade\n",
      "\n",
      "Examples:\n",
      "  Trade $1,000:  Commission = $5.00\n",
      "  Trade $5,000:  Commission = $5.00\n",
      "  Trade $10,000: Commission = $5.00\n"
     ]
    }
   ],
   "source": [
    "# Test flat commission\n",
    "config_flat = BacktestConfig(\n",
    "    initial_capital=10000.0,\n",
    "    lookback_period=50,\n",
    "    commission_type=\"flat\",\n",
    "    commission_value=5.0,  # $5 per trade\n",
    "    risk_free_rate=0.02\n",
    ")\n",
    "\n",
    "print(\"Flat Commission Configuration:\")\n",
    "print(f\"  Commission: ${config_flat.commission_value:.2f} per trade\")\n",
    "print(f\"\\nExamples:\")\n",
    "print(f\"  Trade $1,000:  Commission = ${config_flat.commission_value:.2f}\")\n",
    "print(f\"  Trade $5,000:  Commission = ${config_flat.commission_value:.2f}\")\n",
    "print(f\"  Trade $10,000: Commission = ${config_flat.commission_value:.2f}\")"
   ]
  },
  {
   "cell_type": "code",
   "execution_count": 6,
   "metadata": {},
   "outputs": [
    {
     "name": "stderr",
     "output_type": "stream",
     "text": [
      "Running strategies: 100%|██████████| 1/1 [00:00<00:00, 14.35it/s]"
     ]
    },
    {
     "name": "stdout",
     "output_type": "stream",
     "text": [
      "\n",
      "Performance with $5.00 Flat Commission:\n",
      "  Total Return:  1053.69%\n",
      "  Total Trades:  31\n",
      "  Sharpe Ratio:  0.17\n"
     ]
    },
    {
     "name": "stderr",
     "output_type": "stream",
     "text": [
      "\n"
     ]
    }
   ],
   "source": [
    "# Run backtest with flat commission\n",
    "backtest = Backtest(data=data, config=config_flat)\n",
    "results_flat = backtest.run([strategy])\n",
    "\n",
    "metrics = results_flat[strategy.get_name()]['metrics']\n",
    "print(f\"\\nPerformance with ${config_flat.commission_value:.2f} Flat Commission:\")\n",
    "print(f\"  Total Return:  {metrics['total_return']*100:.2f}%\")\n",
    "print(f\"  Total Trades:  {metrics['total_trades']}\")\n",
    "print(f\"  Sharpe Ratio:  {metrics['sharpe_ratio']:.2f}\")"
   ]
  },
  {
   "cell_type": "markdown",
   "metadata": {},
   "source": [
    "## 3. Tiered Commission\n",
    "\n",
    "**Volume-based pricing**: Larger trades get lower commission rates.\n",
    "\n",
    "Common for:\n",
    "- Institutional brokers\n",
    "- High-volume traders\n",
    "- Some crypto exchanges"
   ]
  },
  {
   "cell_type": "code",
   "execution_count": 7,
   "metadata": {},
   "outputs": [
    {
     "name": "stdout",
     "output_type": "stream",
     "text": [
      "Tiered Commission Configuration:\n",
      "  Tiers:\n",
      "    $0 - $1,000:    0.2% commission\n",
      "    $1,000 - $5,000: 0.1% commission\n",
      "    $5,000+:         0.05% commission\n",
      "\n",
      "Examples:\n",
      "  Trade $500:    $1.00 (all in tier 1)\n",
      "  Trade $3,000:  $4.00 (tier 1 + tier 2)\n",
      "  Trade $8,000:  $7.50 (all tiers)\n"
     ]
    }
   ],
   "source": [
    "# Test tiered commission\n",
    "# Define tiers: (threshold, rate)\n",
    "tiers = [\n",
    "    (1000, 0.002),          # $0-$1,000: 0.2%\n",
    "    (5000, 0.001),          # $1,000-$5,000: 0.1%\n",
    "    (float('inf'), 0.0005), # $5,000+: 0.05%\n",
    "]\n",
    "\n",
    "config_tiered = BacktestConfig(\n",
    "    initial_capital=10000.0,\n",
    "    lookback_period=50,\n",
    "    commission_type=\"tiered\",\n",
    "    commission_value=tiers,\n",
    "    risk_free_rate=0.02\n",
    ")\n",
    "\n",
    "print(\"Tiered Commission Configuration:\")\n",
    "print(\"  Tiers:\")\n",
    "print(\"    $0 - $1,000:    0.2% commission\")\n",
    "print(\"    $1,000 - $5,000: 0.1% commission\")\n",
    "print(\"    $5,000+:         0.05% commission\")\n",
    "\n",
    "# Calculate examples manually\n",
    "print(f\"\\nExamples:\")\n",
    "print(f\"  Trade $500:    ${500 * 0.002:.2f} (all in tier 1)\")\n",
    "print(f\"  Trade $3,000:  ${1000 * 0.002 + 2000 * 0.001:.2f} (tier 1 + tier 2)\")\n",
    "print(f\"  Trade $8,000:  ${1000 * 0.002 + 4000 * 0.001 + 3000 * 0.0005:.2f} (all tiers)\")"
   ]
  },
  {
   "cell_type": "code",
   "execution_count": 8,
   "metadata": {},
   "outputs": [
    {
     "name": "stderr",
     "output_type": "stream",
     "text": [
      "Running strategies: 100%|██████████| 1/1 [00:00<00:00, 14.63it/s]"
     ]
    },
    {
     "name": "stdout",
     "output_type": "stream",
     "text": [
      "\n",
      "Performance with Tiered Commission:\n",
      "  Total Return:  1058.29%\n",
      "  Total Trades:  31\n",
      "  Sharpe Ratio:  0.17\n"
     ]
    },
    {
     "name": "stderr",
     "output_type": "stream",
     "text": [
      "\n"
     ]
    }
   ],
   "source": [
    "# Run backtest with tiered commission\n",
    "backtest = Backtest(data=data, config=config_tiered)\n",
    "results_tiered = backtest.run([strategy])\n",
    "\n",
    "metrics = results_tiered[strategy.get_name()]['metrics']\n",
    "print(f\"\\nPerformance with Tiered Commission:\")\n",
    "print(f\"  Total Return:  {metrics['total_return']*100:.2f}%\")\n",
    "print(f\"  Total Trades:  {metrics['total_trades']}\")\n",
    "print(f\"  Sharpe Ratio:  {metrics['sharpe_ratio']:.2f}\")"
   ]
  },
  {
   "cell_type": "markdown",
   "metadata": {},
   "source": [
    "## 4. Custom Commission Models\n",
    "\n",
    "Create your own commission structure by inheriting from the `Commission` base class.\n",
    "\n",
    "Let's create two custom models:\n",
    "1. **Minimum Fee Commission**: Percentage with a minimum fee\n",
    "2. **Time-Based Commission**: Different rates for day vs overnight positions"
   ]
  },
  {
   "cell_type": "code",
   "execution_count": 9,
   "metadata": {},
   "outputs": [
    {
     "name": "stdout",
     "output_type": "stream",
     "text": [
      "✓ MinimumFeeCommission created\n"
     ]
    }
   ],
   "source": [
    "class MinimumFeeCommission(Commission):\n",
    "    \"\"\"Percentage commission with a minimum fee.\n",
    "    \n",
    "    Common structure: Pay percentage or minimum fee, whichever is higher.\n",
    "    Example: 0.1% or $5 minimum.\n",
    "    \"\"\"\n",
    "    \n",
    "    def __init__(self, rate: float, min_fee: float, name: str = None):\n",
    "        super().__init__(name=name or f\"MinFee({rate*100:.2f}%, ${min_fee})\")\n",
    "        self.rate = rate\n",
    "        self.min_fee = min_fee\n",
    "    \n",
    "    def calculate(self, shares: float, price: float) -> float:\n",
    "        \"\"\"Calculate commission as percentage with minimum fee.\"\"\"\n",
    "        trade_value = shares * price\n",
    "        percentage_fee = trade_value * self.rate\n",
    "        \n",
    "        # Return whichever is higher: percentage or minimum\n",
    "        return max(percentage_fee, self.min_fee)\n",
    "\n",
    "print(\"✓ MinimumFeeCommission created\")"
   ]
  },
  {
   "cell_type": "code",
   "execution_count": 10,
   "metadata": {},
   "outputs": [
    {
     "name": "stdout",
     "output_type": "stream",
     "text": [
      "✓ ProgressiveCommission created\n"
     ]
    }
   ],
   "source": [
    "class ProgressiveCommission(Commission):\n",
    "    \"\"\"Commission that decreases as trading volume increases.\n",
    "    \n",
    "    Simulates monthly volume discounts: commission rate decreases\n",
    "    with each trade (simplified model).\n",
    "    \"\"\"\n",
    "    \n",
    "    def __init__(self, base_rate: float = 0.002, min_rate: float = 0.0005, \n",
    "                 decay_rate: float = 0.95, name: str = None):\n",
    "        super().__init__(name=name or f\"Progressive({base_rate*100:.2f}%)\")\n",
    "        self.base_rate = base_rate\n",
    "        self.min_rate = min_rate\n",
    "        self.decay_rate = decay_rate\n",
    "        self.current_rate = base_rate\n",
    "        self.trade_count = 0\n",
    "    \n",
    "    def calculate(self, shares: float, price: float) -> float:\n",
    "        \"\"\"Calculate commission with progressive discount.\"\"\"\n",
    "        trade_value = shares * price\n",
    "        commission = trade_value * self.current_rate\n",
    "        \n",
    "        # Decrease rate for next trade (but not below minimum)\n",
    "        self.trade_count += 1\n",
    "        self.current_rate = max(self.current_rate * self.decay_rate, self.min_rate)\n",
    "        \n",
    "        return commission\n",
    "\n",
    "print(\"✓ ProgressiveCommission created\")"
   ]
  },
  {
   "cell_type": "markdown",
   "metadata": {},
   "source": [
    "### Test Custom Commissions"
   ]
  },
  {
   "cell_type": "code",
   "execution_count": 11,
   "metadata": {},
   "outputs": [
    {
     "name": "stdout",
     "output_type": "stream",
     "text": [
      "MinimumFeeCommission Examples:\n",
      "  Trade $1,000:  $5.00 (min fee applies)\n",
      "  Trade $10,000: $10.00 (percentage applies)\n",
      "  Trade $20,000: $20.00 (percentage applies)\n"
     ]
    }
   ],
   "source": [
    "# Test MinimumFeeCommission\n",
    "min_fee_comm = MinimumFeeCommission(rate=0.001, min_fee=5.0)\n",
    "\n",
    "print(\"MinimumFeeCommission Examples:\")\n",
    "print(f\"  Trade $1,000:  ${min_fee_comm.calculate(10, 100):.2f} (min fee applies)\")\n",
    "print(f\"  Trade $10,000: ${min_fee_comm.calculate(100, 100):.2f} (percentage applies)\")\n",
    "print(f\"  Trade $20,000: ${min_fee_comm.calculate(200, 100):.2f} (percentage applies)\")"
   ]
  },
  {
   "cell_type": "code",
   "execution_count": 12,
   "metadata": {},
   "outputs": [
    {
     "name": "stdout",
     "output_type": "stream",
     "text": [
      "\n",
      "ProgressiveCommission Examples (rate decreases with each trade):\n",
      "  Trade 1: $20.00 (rate: 0.1900%)\n",
      "  Trade 2: $19.00 (rate: 0.1805%)\n",
      "  Trade 3: $18.05 (rate: 0.1715%)\n",
      "  Trade 4: $17.15 (rate: 0.1629%)\n",
      "  Trade 5: $16.29 (rate: 0.1548%)\n"
     ]
    }
   ],
   "source": [
    "# Test ProgressiveCommission\n",
    "prog_comm = ProgressiveCommission(base_rate=0.002, min_rate=0.0005)\n",
    "\n",
    "print(\"\\nProgressiveCommission Examples (rate decreases with each trade):\")\n",
    "for i in range(5):\n",
    "    comm = prog_comm.calculate(100, 100)  # $10,000 trade\n",
    "    print(f\"  Trade {i+1}: ${comm:.2f} (rate: {prog_comm.current_rate*100:.4f}%)\")"
   ]
  },
  {
   "cell_type": "markdown",
   "metadata": {},
   "source": [
    "## 5. Commission Impact Analysis\n",
    "\n",
    "Compare how different commission structures affect the same strategy."
   ]
  },
  {
   "cell_type": "code",
   "execution_count": 13,
   "metadata": {},
   "outputs": [
    {
     "name": "stdout",
     "output_type": "stream",
     "text": [
      "Testing commission impact on MA strategy...\n",
      "Strategy: MA_10_30\n",
      "\n"
     ]
    }
   ],
   "source": [
    "# Create configs with different commission structures\n",
    "configs = {\n",
    "    \"Zero Commission\": BacktestConfig(\n",
    "        initial_capital=10000.0,\n",
    "        lookback_period=50,\n",
    "        commission_type=\"flat\",\n",
    "        commission_value=0.0,\n",
    "        risk_free_rate=0.02\n",
    "    ),\n",
    "    \"Low (0.05%)\": BacktestConfig(\n",
    "        initial_capital=10000.0,\n",
    "        lookback_period=50,\n",
    "        commission_type=\"percentage\",\n",
    "        commission_value=0.0005,\n",
    "        risk_free_rate=0.02\n",
    "    ),\n",
    "    \"Medium (0.1%)\": BacktestConfig(\n",
    "        initial_capital=10000.0,\n",
    "        lookback_period=50,\n",
    "        commission_type=\"percentage\",\n",
    "        commission_value=0.001,\n",
    "        risk_free_rate=0.02\n",
    "    ),\n",
    "    \"High (0.25%)\": BacktestConfig(\n",
    "        initial_capital=10000.0,\n",
    "        lookback_period=50,\n",
    "        commission_type=\"percentage\",\n",
    "        commission_value=0.0025,\n",
    "        risk_free_rate=0.02\n",
    "    ),\n",
    "    \"Flat $5\": BacktestConfig(\n",
    "        initial_capital=10000.0,\n",
    "        lookback_period=50,\n",
    "        commission_type=\"flat\",\n",
    "        commission_value=5.0,\n",
    "        risk_free_rate=0.02\n",
    "    ),\n",
    "}\n",
    "\n",
    "print(\"Testing commission impact on MA strategy...\")\n",
    "print(f\"Strategy: {strategy.get_name()}\\n\")"
   ]
  },
  {
   "cell_type": "code",
   "execution_count": 14,
   "metadata": {},
   "outputs": [
    {
     "name": "stderr",
     "output_type": "stream",
     "text": [
      "Running strategies: 100%|██████████| 1/1 [00:00<00:00, 14.14it/s]\n",
      "Running strategies: 100%|██████████| 1/1 [00:00<00:00, 14.44it/s]\n",
      "Running strategies: 100%|██████████| 1/1 [00:00<00:00, 14.39it/s]\n",
      "Running strategies: 100%|██████████| 1/1 [00:00<00:00, 10.35it/s]\n",
      "Running strategies: 100%|██████████| 1/1 [00:00<00:00, 14.16it/s]"
     ]
    },
    {
     "name": "stdout",
     "output_type": "stream",
     "text": [
      "\n",
      "COMMISSION IMPACT ANALYSIS\n",
      "====================================================================================================\n",
      "Commission Type  Total Return (%)   CAGR (%)  Sharpe Ratio  Max Drawdown (%)  Total Trades  Win Rate (%)\n",
      "Zero Commission       1208.685327 305.934535      0.251502        659.976572            31   5333.333333\n",
      "    Low (0.05%)       1148.988531 291.409920      0.219763        678.710720            31   5333.333333\n",
      "  Medium (0.1%)       1089.291735 276.827959      0.187991        697.524355            31   5333.333333\n",
      "   High (0.25%)        910.201347 232.732595      0.092600        754.447266            31   4666.666667\n",
      "        Flat $5       1053.685327 268.102963      0.169002        708.466746            31   4666.666667\n",
      "====================================================================================================\n"
     ]
    },
    {
     "name": "stderr",
     "output_type": "stream",
     "text": [
      "\n"
     ]
    }
   ],
   "source": [
    "# Run backtests with different commissions\n",
    "comparison_results = []\n",
    "\n",
    "for name, config in configs.items():\n",
    "    backtest = Backtest(data=data, config=config)\n",
    "    results = backtest.run([strategy])\n",
    "    \n",
    "    metrics = results[strategy.get_name()]['metrics']\n",
    "    \n",
    "    comparison_results.append({\n",
    "        'Commission Type': name,\n",
    "        'Total Return (%)': metrics['total_return'] * 100,\n",
    "        'CAGR (%)': metrics['cagr'] * 100,\n",
    "        'Sharpe Ratio': metrics['sharpe_ratio'],\n",
    "        'Max Drawdown (%)': metrics['max_drawdown'] * 100,\n",
    "        'Total Trades': metrics['total_trades'],\n",
    "        'Win Rate (%)': metrics['win_rate'] * 100,\n",
    "    })\n",
    "\n",
    "# Create comparison DataFrame\n",
    "comparison_df = pd.DataFrame(comparison_results)\n",
    "\n",
    "print(\"\\nCOMMISSION IMPACT ANALYSIS\")\n",
    "print(\"=\" * 100)\n",
    "print(comparison_df.to_string(index=False))\n",
    "print(\"=\" * 100)"
   ]
  },
  {
   "cell_type": "code",
   "execution_count": 15,
   "metadata": {},
   "outputs": [
    {
     "name": "stdout",
     "output_type": "stream",
     "text": [
      "\n",
      "COMMISSION COST IMPACT:\n",
      "============================================================\n",
      "Low (0.05%)......... Cost:  59.70% (  4.9% of returns)\n",
      "Medium (0.1%)....... Cost: 119.39% (  9.9% of returns)\n",
      "High (0.25%)........ Cost: 298.48% ( 24.7% of returns)\n",
      "Flat $5............. Cost: 155.00% ( 12.8% of returns)\n",
      "============================================================\n"
     ]
    }
   ],
   "source": [
    "# Calculate commission cost impact\n",
    "zero_return = comparison_df[comparison_df['Commission Type'] == 'Zero Commission']['Total Return (%)'].values[0]\n",
    "\n",
    "print(\"\\nCOMMISSION COST IMPACT:\")\n",
    "print(\"=\" * 60)\n",
    "for _, row in comparison_df.iterrows():\n",
    "    if row['Commission Type'] != 'Zero Commission':\n",
    "        impact = zero_return - row['Total Return (%)']\n",
    "        impact_pct = (impact / zero_return * 100) if zero_return != 0 else 0\n",
    "        print(f\"{row['Commission Type']:.<20} Cost: {impact:>6.2f}% ({impact_pct:>5.1f}% of returns)\")\n",
    "print(\"=\" * 60)"
   ]
  },
  {
   "cell_type": "markdown",
   "metadata": {},
   "source": [
    "## High-Frequency vs Low-Frequency Trading\n",
    "\n",
    "Commission impact varies dramatically based on trading frequency!"
   ]
  },
  {
   "cell_type": "code",
   "execution_count": 16,
   "metadata": {},
   "outputs": [
    {
     "name": "stdout",
     "output_type": "stream",
     "text": [
      "\n",
      "TRADING FREQUENCY vs COMMISSION IMPACT (0.25% commission)\n",
      "================================================================================\n",
      "\n",
      "MA_High_Freq:\n",
      "  Total Trades:    61\n",
      "  Total Return:  1551.76%\n",
      "  Sharpe Ratio:     0.45\n",
      "\n",
      "MA_Low_Freq:\n",
      "  Total Trades:    17\n",
      "  Total Return:   726.75%\n",
      "  Sharpe Ratio:     0.00\n",
      "\n",
      "Buy_Hold:\n",
      "  Total Trades:     0\n",
      "  Total Return:     0.00%\n",
      "  Sharpe Ratio:     0.00\n",
      "================================================================================\n"
     ]
    }
   ],
   "source": [
    "# Compare high-frequency (short MA windows) vs low-frequency (long MA windows)\n",
    "from simple_backtest.strategy import BuyAndHoldStrategy\n",
    "\n",
    "strategies_freq = [\n",
    "    MovingAverageStrategy(short_window=5, long_window=15, shares=10, name=\"MA_High_Freq\"),\n",
    "    MovingAverageStrategy(short_window=20, long_window=50, shares=10, name=\"MA_Low_Freq\"),\n",
    "    BuyAndHoldStrategy(shares=50, name=\"Buy_Hold\"),\n",
    "]\n",
    "\n",
    "# Test with high commission (0.25%)\n",
    "config_high_comm = BacktestConfig(\n",
    "    initial_capital=10000.0,\n",
    "    lookback_period=60,\n",
    "    commission_type=\"percentage\",\n",
    "    commission_value=0.0025,  # 0.25%\n",
    "    risk_free_rate=0.02\n",
    ")\n",
    "\n",
    "backtest = Backtest(data=data, config=config_high_comm)\n",
    "results_freq = backtest.run(strategies_freq)\n",
    "\n",
    "print(\"\\nTRADING FREQUENCY vs COMMISSION IMPACT (0.25% commission)\")\n",
    "print(\"=\" * 80)\n",
    "for strat in strategies_freq:\n",
    "    metrics = results_freq[strat.get_name()]['metrics']\n",
    "    print(f\"\\n{strat.get_name()}:\")\n",
    "    print(f\"  Total Trades:  {metrics['total_trades']:>4}\")\n",
    "    print(f\"  Total Return:  {metrics['total_return']*100:>7.2f}%\")\n",
    "    print(f\"  Sharpe Ratio:  {metrics['sharpe_ratio']:>7.2f}\")\n",
    "print(\"=\" * 80)"
   ]
  },
  {
   "cell_type": "markdown",
   "metadata": {},
   "source": [
    "## Summary\n",
    "\n",
    "In this notebook, we explored commission models:\n",
    "\n",
    "1. ✅ **Percentage Commission**: Most common, scales with trade size\n",
    "2. ✅ **Flat Commission**: Fixed fee, benefits larger trades\n",
    "3. ✅ **Tiered Commission**: Volume discounts for large trades\n",
    "4. ✅ **Custom Commissions**: Created MinimumFee and Progressive models\n",
    "5. ✅ **Impact Analysis**: Measured how commissions affect performance\n",
    "\n",
    "### Key Insights:\n",
    "\n",
    "**Commission Impact:**\n",
    "- Higher trading frequency = higher commission costs\n",
    "- Even \"low\" commissions (0.1%) can significantly reduce returns\n",
    "- High-frequency strategies need ultra-low commissions to be profitable\n",
    "- Buy-and-hold strategies are less affected by commission rates\n",
    "\n",
    "**Choosing Commission Type:**\n",
    "- **Percentage**: Good for variable trade sizes\n",
    "- **Flat**: Better for consistent large trades\n",
    "- **Tiered**: Best for high-volume trading\n",
    "- **Custom**: Match your exact broker structure\n",
    "\n",
    "### Important Considerations:\n",
    "\n",
    "1. **Don't Forget Commissions**: Always include realistic commission costs\n",
    "2. **Match Your Broker**: Use the exact commission structure of your broker\n",
    "3. **Trading Frequency**: High-frequency strategies are extremely sensitive to commissions\n",
    "4. **Slippage**: Real costs include slippage (not just commission)\n",
    "5. **Tax Impact**: Consider tax implications (not modeled here)\n",
    "\n",
    "### Creating Custom Commissions:\n",
    "\n",
    "To create your own commission model:\n",
    "```python\n",
    "from simple_backtest.commission import Commission\n",
    "\n",
    "class MyCommission(Commission):\n",
    "    def calculate(self, shares: float, price: float) -> float:\n",
    "        # Your logic here\n",
    "        return commission_amount\n",
    "```\n",
    "\n",
    "### Real-World Commission Examples:\n",
    "\n",
    "**US Stock Brokers:**\n",
    "- Robinhood, Webull: $0\n",
    "- Interactive Brokers: $0.0035/share (min $0.35)\n",
    "- TD Ameritrade: $0\n",
    "\n",
    "**Crypto Exchanges:**\n",
    "- Coinbase Pro: 0.5% (retail) to 0.04% (high volume)\n",
    "- Binance: 0.1% (can be reduced with BNB)\n",
    "- Kraken: 0.16% to 0.26%\n",
    "\n",
    "**Forex Brokers:**\n",
    "- Spread-based (2-5 pips)\n",
    "- Commission: $3-$7 per lot\n",
    "\n",
    "### Next Steps:\n",
    "\n",
    "- Add slippage modeling to commissions\n",
    "- Model market impact for large orders\n",
    "- Include tax-aware backtesting\n",
    "- Test strategies across different commission environments"
   ]
  }
 ],
 "metadata": {
  "kernelspec": {
   "display_name": ".venv",
   "language": "python",
   "name": "python3"
  },
  "language_info": {
   "codemirror_mode": {
    "name": "ipython",
    "version": 3
   },
   "file_extension": ".py",
   "mimetype": "text/x-python",
   "name": "python",
   "nbconvert_exporter": "python",
   "pygments_lexer": "ipython3",
   "version": "3.12.11"
  }
 },
 "nbformat": 4,
 "nbformat_minor": 4
}

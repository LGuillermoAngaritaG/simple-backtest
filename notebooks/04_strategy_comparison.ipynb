{
 "cells": [
  {
   "cell_type": "markdown",
   "metadata": {},
   "source": [
    "# Strategy Comparison\n",
    "\n",
    "This notebook compares multiple trading strategies on the same dataset to identify which performs best."
   ]
  },
  {
   "cell_type": "code",
   "execution_count": null,
   "metadata": {},
   "outputs": [],
   "source": [
    "import yfinance as yf\n",
    "import pandas as pd\n",
    "import numpy as np\n",
    "import matplotlib.pyplot as plt\n",
    "from typing import Any, Dict, List\n",
    "\n",
    "from simple_backtest import Backtest, BacktestConfig\n",
    "from simple_backtest.strategy.strategy_base import Strategy\n",
    "from simple_backtest.strategy.buy_and_hold import BuyAndHoldStrategy\n",
    "from simple_backtest.strategy.moving_average import MovingAverageStrategy\n",
    "from simple_backtest.visualization.plotter import plot_equity_curve"
   ]
  },
  {
   "cell_type": "markdown",
   "metadata": {},
   "source": [
    "## 1. Define All Strategies"
   ]
  },
  {
   "cell_type": "code",
   "execution_count": null,
   "metadata": {},
   "outputs": [],
   "source": [
    "# RSI Strategy\n",
    "class RSIStrategy(Strategy):\n",
    "    def __init__(self, period: int = 14, oversold: float = 30, overbought: float = 70, shares: float = 100):\n",
    "        super().__init__(name=f\"RSI_{period}\")\n",
    "        self.period = period\n",
    "        self.oversold = oversold\n",
    "        self.overbought = overbought\n",
    "        self.shares = shares\n",
    "    \n",
    "    def calculate_rsi(self, prices: pd.Series) -> float:\n",
    "        if len(prices) < self.period + 1:\n",
    "            return 50.0\n",
    "        deltas = prices.diff()\n",
    "        gains = deltas.where(deltas > 0, 0)\n",
    "        losses = -deltas.where(deltas < 0, 0)\n",
    "        avg_gain = gains.tail(self.period).mean()\n",
    "        avg_loss = losses.tail(self.period).mean()\n",
    "        if avg_loss == 0:\n",
    "            return 100.0\n",
    "        rs = avg_gain / avg_loss\n",
    "        return 100 - (100 / (1 + rs))\n",
    "    \n",
    "    def predict(self, data: pd.DataFrame, trade_history: List[Dict[str, Any]]) -> Dict[str, Any]:\n",
    "        rsi = self.calculate_rsi(data['Close'])\n",
    "        has_position = False\n",
    "        if trade_history:\n",
    "            total_bought = sum(t['shares'] for t in trade_history if t['signal'] == 'buy')\n",
    "            total_sold = sum(t['shares'] for t in trade_history if t['signal'] == 'sell')\n",
    "            has_position = total_bought > total_sold\n",
    "        if rsi < self.oversold and not has_position:\n",
    "            return {\"signal\": \"buy\", \"size\": self.shares, \"order_ids\": None}\n",
    "        elif rsi > self.overbought and has_position:\n",
    "            return {\"signal\": \"sell\", \"size\": self.shares, \"order_ids\": None}\n",
    "        return {\"signal\": \"hold\", \"size\": 0, \"order_ids\": None}\n",
    "\n",
    "\n",
    "# Bollinger Bands Strategy\n",
    "class BollingerBandsStrategy(Strategy):\n",
    "    def __init__(self, window: int = 20, num_std: float = 2.0, shares: float = 100):\n",
    "        super().__init__(name=f\"BB_{window}_{num_std}\")\n",
    "        self.window = window\n",
    "        self.num_std = num_std\n",
    "        self.shares = shares\n",
    "    \n",
    "    def calculate_bollinger_bands(self, prices: pd.Series):\n",
    "        if len(prices) < self.window:\n",
    "            return None, None, None, prices.iloc[-1]\n",
    "        middle_band = prices.tail(self.window).mean()\n",
    "        std = prices.tail(self.window).std()\n",
    "        upper_band = middle_band + (self.num_std * std)\n",
    "        lower_band = middle_band - (self.num_std * std)\n",
    "        return middle_band, upper_band, lower_band, prices.iloc[-1]\n",
    "    \n",
    "    def predict(self, data: pd.DataFrame, trade_history: List[Dict[str, Any]]) -> Dict[str, Any]:\n",
    "        middle, upper, lower, current_price = self.calculate_bollinger_bands(data['Close'])\n",
    "        if middle is None:\n",
    "            return {\"signal\": \"hold\", \"size\": 0, \"order_ids\": None}\n",
    "        has_position = False\n",
    "        if trade_history:\n",
    "            total_bought = sum(t['shares'] for t in trade_history if t['signal'] == 'buy')\n",
    "            total_sold = sum(t['shares'] for t in trade_history if t['signal'] == 'sell')\n",
    "            has_position = total_bought > total_sold\n",
    "        if current_price <= lower and not has_position:\n",
    "            return {\"signal\": \"buy\", \"size\": self.shares, \"order_ids\": None}\n",
    "        elif current_price >= upper and has_position:\n",
    "            return {\"signal\": \"sell\", \"size\": self.shares, \"order_ids\": None}\n",
    "        return {\"signal\": \"hold\", \"size\": 0, \"order_ids\": None}"
   ]
  },
  {
   "cell_type": "markdown",
   "metadata": {},
   "source": [
    "## 2. Download Market Data"
   ]
  },
  {
   "cell_type": "code",
   "execution_count": null,
   "metadata": {},
   "outputs": [],
   "source": [
    "# Download S&P 500 data\n",
    "ticker = \"SPY\"\n",
    "start_date = \"2019-01-01\"\n",
    "end_date = \"2023-12-31\"\n",
    "\n",
    "data = yf.download(ticker, start=start_date, end=end_date)\n",
    "print(f\"Downloaded {len(data)} rows of {ticker} data\")\n",
    "print(f\"Date range: {data.index[0]} to {data.index[-1]}\")\n",
    "data.tail()"
   ]
  },
  {
   "cell_type": "markdown",
   "metadata": {},
   "source": [
    "## 3. Run All Strategies"
   ]
  },
  {
   "cell_type": "code",
   "execution_count": null,
   "metadata": {},
   "outputs": [],
   "source": [
    "# Configure backtest\n",
    "config = BacktestConfig(\n",
    "    initial_capital=10000.0,\n",
    "    lookback_period=50,\n",
    "    commission_type=\"percentage\",\n",
    "    commission_value=0.001,\n",
    "    execution_price=\"open\",\n",
    "    parallel_execution=True,\n",
    "    risk_free_rate=0.02,\n",
    ")\n",
    "\n",
    "# Create all strategies\n",
    "strategies = [\n",
    "    BuyAndHoldStrategy(shares=50),\n",
    "    MovingAverageStrategy(short_window=10, long_window=30, shares=50),\n",
    "    MovingAverageStrategy(short_window=20, long_window=50, shares=50),\n",
    "    RSIStrategy(period=14, oversold=30, overbought=70, shares=50),\n",
    "    BollingerBandsStrategy(window=20, num_std=2.0, shares=50),\n",
    "]\n",
    "\n",
    "# Run backtest\n",
    "backtest = Backtest(data=data, config=config)\n",
    "results = backtest.run(strategies)\n",
    "\n",
    "print(\"\\nBacktest completed for all strategies!\")"
   ]
  },
  {
   "cell_type": "markdown",
   "metadata": {},
   "source": [
    "## 4. Compare Performance Metrics"
   ]
  },
  {
   "cell_type": "code",
   "execution_count": null,
   "metadata": {},
   "outputs": [],
   "source": [
    "# Create comparison DataFrame\n",
    "comparison_df = pd.DataFrame({\n",
    "    name: res['metrics'] \n",
    "    for name, res in results.items() \n",
    "    if name != 'benchmark'\n",
    "}).T\n",
    "\n",
    "# Select key metrics\n",
    "key_metrics = ['total_return', 'cagr', 'sharpe_ratio', 'sortino_ratio', \n",
    "               'max_drawdown', 'win_rate', 'total_trades', 'final_value']\n",
    "\n",
    "print(\"\\n=== Strategy Performance Comparison ===\")\n",
    "comparison_df[key_metrics].round(2)"
   ]
  },
  {
   "cell_type": "code",
   "execution_count": null,
   "metadata": {},
   "outputs": [],
   "source": [
    "# Rank strategies by different metrics\n",
    "print(\"\\n=== Rankings by Sharpe Ratio ===\")\n",
    "print(comparison_df[['sharpe_ratio', 'total_return', 'max_drawdown']].sort_values('sharpe_ratio', ascending=False))\n",
    "\n",
    "print(\"\\n=== Rankings by Total Return ===\")\n",
    "print(comparison_df[['total_return', 'sharpe_ratio', 'max_drawdown']].sort_values('total_return', ascending=False))"
   ]
  },
  {
   "cell_type": "markdown",
   "metadata": {},
   "source": [
    "## 5. Visualize Equity Curves"
   ]
  },
  {
   "cell_type": "code",
   "execution_count": null,
   "metadata": {},
   "outputs": [],
   "source": [
    "# Plot all equity curves\n",
    "fig = plot_equity_curve(results)\n",
    "fig.show()"
   ]
  },
  {
   "cell_type": "markdown",
   "metadata": {},
   "source": [
    "## 6. Risk-Return Analysis"
   ]
  },
  {
   "cell_type": "code",
   "execution_count": null,
   "metadata": {},
   "outputs": [],
   "source": [
    "# Create risk-return scatter plot\n",
    "plt.figure(figsize=(12, 7))\n",
    "\n",
    "for name in comparison_df.index:\n",
    "    plt.scatter(comparison_df.loc[name, 'volatility'], \n",
    "                comparison_df.loc[name, 'total_return'],\n",
    "                s=150, alpha=0.6)\n",
    "    plt.annotate(name, \n",
    "                (comparison_df.loc[name, 'volatility'], \n",
    "                 comparison_df.loc[name, 'total_return']),\n",
    "                fontsize=9, ha='right')\n",
    "\n",
    "plt.xlabel('Volatility (Annualized %)')\n",
    "plt.ylabel('Total Return (%)')\n",
    "plt.title('Risk-Return Profile of Strategies')\n",
    "plt.grid(True, alpha=0.3)\n",
    "plt.tight_layout()\n",
    "plt.show()"
   ]
  },
  {
   "cell_type": "markdown",
   "metadata": {},
   "source": [
    "## 7. Drawdown Comparison"
   ]
  },
  {
   "cell_type": "code",
   "execution_count": null,
   "metadata": {},
   "outputs": [],
   "source": [
    "# Plot drawdowns for all strategies\n",
    "plt.figure(figsize=(14, 8))\n",
    "\n",
    "for name, res in results.items():\n",
    "    if name == 'benchmark':\n",
    "        continue\n",
    "    \n",
    "    portfolio_values = res['portfolio_values']\n",
    "    cumulative_max = portfolio_values.cummax()\n",
    "    drawdown = (portfolio_values - cumulative_max) / cumulative_max * 100\n",
    "    \n",
    "    plt.plot(drawdown.index, drawdown, label=name, alpha=0.7)\n",
    "\n",
    "plt.xlabel('Date')\n",
    "plt.ylabel('Drawdown (%)')\n",
    "plt.title('Drawdown Comparison Across Strategies')\n",
    "plt.legend()\n",
    "plt.grid(True, alpha=0.3)\n",
    "plt.tight_layout()\n",
    "plt.show()"
   ]
  },
  {
   "cell_type": "markdown",
   "metadata": {},
   "source": [
    "## 8. Monthly Returns Heatmap"
   ]
  },
  {
   "cell_type": "code",
   "execution_count": null,
   "metadata": {},
   "outputs": [],
   "source": [
    "# Calculate monthly returns for each strategy\n",
    "monthly_returns = {}\n",
    "\n",
    "for name, res in results.items():\n",
    "    if name == 'benchmark':\n",
    "        continue\n",
    "    returns = res['returns']\n",
    "    monthly = returns.resample('ME').sum() * 100  # Convert to percentage\n",
    "    monthly_returns[name] = monthly\n",
    "\n",
    "# Create DataFrame\n",
    "monthly_df = pd.DataFrame(monthly_returns)\n",
    "\n",
    "# Plot\n",
    "fig, ax = plt.subplots(figsize=(14, 6))\n",
    "im = ax.imshow(monthly_df.T, aspect='auto', cmap='RdYlGn', vmin=-10, vmax=10)\n",
    "\n",
    "# Set ticks and labels\n",
    "ax.set_xticks(range(len(monthly_df.index)))\n",
    "ax.set_xticklabels([d.strftime('%Y-%m') for d in monthly_df.index], rotation=45, ha='right')\n",
    "ax.set_yticks(range(len(monthly_df.columns)))\n",
    "ax.set_yticklabels(monthly_df.columns)\n",
    "\n",
    "# Add colorbar\n",
    "cbar = plt.colorbar(im, ax=ax)\n",
    "cbar.set_label('Monthly Return (%)')\n",
    "\n",
    "plt.title('Monthly Returns Heatmap')\n",
    "plt.tight_layout()\n",
    "plt.show()"
   ]
  },
  {
   "cell_type": "markdown",
   "metadata": {},
   "source": [
    "## 9. Summary Statistics"
   ]
  },
  {
   "cell_type": "code",
   "execution_count": null,
   "metadata": {},
   "outputs": [],
   "source": [
    "# Calculate additional statistics\n",
    "summary = pd.DataFrame()\n",
    "\n",
    "for name, res in results.items():\n",
    "    if name == 'benchmark':\n",
    "        continue\n",
    "    \n",
    "    returns = res['returns']\n",
    "    metrics = res['metrics']\n",
    "    \n",
    "    summary.loc[name, 'Mean Daily Return (%)'] = returns.mean() * 100\n",
    "    summary.loc[name, 'Std Daily Return (%)'] = returns.std() * 100\n",
    "    summary.loc[name, 'Best Day (%)'] = returns.max() * 100\n",
    "    summary.loc[name, 'Worst Day (%)'] = returns.min() * 100\n",
    "    summary.loc[name, 'Positive Days (%)'] = (returns > 0).sum() / len(returns) * 100\n",
    "    summary.loc[name, 'Sharpe Ratio'] = metrics['sharpe_ratio']\n",
    "    summary.loc[name, 'Max Drawdown (%)'] = metrics['max_drawdown']\n",
    "\n",
    "print(\"\\n=== Summary Statistics ===\")\n",
    "summary.round(2)"
   ]
  },
  {
   "cell_type": "markdown",
   "metadata": {},
   "source": [
    "## 10. Conclusion\n",
    "\n",
    "Based on the analysis above, we can draw conclusions about:\n",
    "- Which strategy provides the best risk-adjusted returns (Sharpe Ratio)\n",
    "- Which strategy has the lowest drawdown\n",
    "- Which strategy is most consistent (win rate)\n",
    "- Trade-offs between different approaches"
   ]
  },
  {
   "cell_type": "code",
   "execution_count": null,
   "metadata": {},
   "outputs": [],
   "source": [
    "# Find best strategy by different criteria\n",
    "print(\"\\n=== Best Strategies ===\")\n",
    "print(f\"Highest Sharpe Ratio: {comparison_df['sharpe_ratio'].idxmax()} ({comparison_df['sharpe_ratio'].max():.2f})\")\n",
    "print(f\"Highest Total Return: {comparison_df['total_return'].idxmax()} ({comparison_df['total_return'].max():.2f}%)\")\n",
    "print(f\"Lowest Drawdown: {comparison_df['max_drawdown'].idxmin()} ({comparison_df['max_drawdown'].min():.2f}%)\")\n",
    "print(f\"Highest Win Rate: {comparison_df['win_rate'].idxmax()} ({comparison_df['win_rate'].max():.2f}%)\")"
   ]
  }
 ],
 "metadata": {
  "kernelspec": {
   "display_name": "Python 3",
   "language": "python",
   "name": "python3"
  },
  "language_info": {
   "codemirror_mode": {
    "name": "ipython",
    "version": 3
   },
   "file_extension": ".py",
   "mimetype": "text/x-python",
   "name": "python",
   "nbconvert_exporter": "python",
   "pygments_lexer": "ipython3",
   "version": "3.10.0"
  }
 },
 "nbformat": 4,
 "nbformat_minor": 4
}

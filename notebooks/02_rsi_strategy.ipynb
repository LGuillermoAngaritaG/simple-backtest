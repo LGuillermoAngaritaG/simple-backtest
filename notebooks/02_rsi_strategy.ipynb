{
 "cells": [
  {
   "cell_type": "markdown",
   "metadata": {},
   "source": [
    "# RSI Strategy - Relative Strength Index\n",
    "\n",
    "This notebook demonstrates how to implement and backtest an RSI (Relative Strength Index) strategy.\n",
    "\n",
    "**Strategy Logic:**\n",
    "- Buy when RSI < 30 (oversold)\n",
    "- Sell when RSI > 70 (overbought)"
   ]
  },
  {
   "cell_type": "code",
   "execution_count": null,
   "metadata": {},
   "outputs": [],
   "source": [
    "import yfinance as yf\n",
    "import pandas as pd\n",
    "import numpy as np\n",
    "from typing import Any, Dict, List\n",
    "\n",
    "from simple_backtest import Backtest, BacktestConfig\n",
    "from simple_backtest.strategy.strategy_base import Strategy\n",
    "from simple_backtest.visualization.plotter import plot_equity_curve"
   ]
  },
  {
   "cell_type": "markdown",
   "metadata": {},
   "source": [
    "## 1. Implement RSI Strategy"
   ]
  },
  {
   "cell_type": "code",
   "execution_count": null,
   "metadata": {},
   "outputs": [],
   "source": [
    "class RSIStrategy(Strategy):\n",
    "    \"\"\"RSI momentum strategy.\"\"\"\n",
    "    \n",
    "    def __init__(self, period: int = 14, oversold: float = 30, overbought: float = 70, shares: float = 100):\n",
    "        \"\"\"Initialize RSI strategy.\n",
    "        \n",
    "        :param period: RSI calculation period\n",
    "        :param oversold: Oversold threshold (buy signal)\n",
    "        :param overbought: Overbought threshold (sell signal)\n",
    "        :param shares: Shares to trade\n",
    "        \"\"\"\n",
    "        super().__init__(name=f\"RSI_{period}\")\n",
    "        self.period = period\n",
    "        self.oversold = oversold\n",
    "        self.overbought = overbought\n",
    "        self.shares = shares\n",
    "    \n",
    "    def calculate_rsi(self, prices: pd.Series) -> float:\n",
    "        \"\"\"Calculate RSI indicator.\"\"\"\n",
    "        if len(prices) < self.period + 1:\n",
    "            return 50.0  # Neutral\n",
    "        \n",
    "        # Calculate price changes\n",
    "        deltas = prices.diff()\n",
    "        \n",
    "        # Separate gains and losses\n",
    "        gains = deltas.where(deltas > 0, 0)\n",
    "        losses = -deltas.where(deltas < 0, 0)\n",
    "        \n",
    "        # Calculate average gains and losses\n",
    "        avg_gain = gains.tail(self.period).mean()\n",
    "        avg_loss = losses.tail(self.period).mean()\n",
    "        \n",
    "        if avg_loss == 0:\n",
    "            return 100.0\n",
    "        \n",
    "        # Calculate RS and RSI\n",
    "        rs = avg_gain / avg_loss\n",
    "        rsi = 100 - (100 / (1 + rs))\n",
    "        \n",
    "        return rsi\n",
    "    \n",
    "    def predict(self, data: pd.DataFrame, trade_history: List[Dict[str, Any]]) -> Dict[str, Any]:\n",
    "        \"\"\"Generate signal based on RSI.\"\"\"\n",
    "        # Calculate RSI\n",
    "        rsi = self.calculate_rsi(data['Close'])\n",
    "        \n",
    "        # Check if we have open positions\n",
    "        has_position = False\n",
    "        if trade_history:\n",
    "            total_bought = sum(t['shares'] for t in trade_history if t['signal'] == 'buy')\n",
    "            total_sold = sum(t['shares'] for t in trade_history if t['signal'] == 'sell')\n",
    "            has_position = total_bought > total_sold\n",
    "        \n",
    "        # Generate signal\n",
    "        if rsi < self.oversold and not has_position:\n",
    "            return {\"signal\": \"buy\", \"size\": self.shares, \"order_ids\": None}\n",
    "        elif rsi > self.overbought and has_position:\n",
    "            return {\"signal\": \"sell\", \"size\": self.shares, \"order_ids\": None}\n",
    "        else:\n",
    "            return {\"signal\": \"hold\", \"size\": 0, \"order_ids\": None}"
   ]
  },
  {
   "cell_type": "markdown",
   "metadata": {},
   "source": [
    "## 2. Download Market Data"
   ]
  },
  {
   "cell_type": "code",
   "execution_count": null,
   "metadata": {},
   "outputs": [],
   "source": [
    "# Download Tesla data\n",
    "ticker = \"TSLA\"\n",
    "start_date = \"2020-01-01\"\n",
    "end_date = \"2023-12-31\"\n",
    "\n",
    "data = yf.download(ticker, start=start_date, end=end_date)\n",
    "print(f\"Downloaded {len(data)} rows of {ticker} data\")\n",
    "data.head()"
   ]
  },
  {
   "cell_type": "markdown",
   "metadata": {},
   "source": [
    "## 3. Visualize RSI Indicator"
   ]
  },
  {
   "cell_type": "code",
   "execution_count": null,
   "metadata": {},
   "outputs": [],
   "source": [
    "import matplotlib.pyplot as plt\n",
    "\n",
    "# Calculate RSI for visualization\n",
    "def calc_rsi_series(prices, period=14):\n",
    "    deltas = prices.diff()\n",
    "    gains = deltas.where(deltas > 0, 0)\n",
    "    losses = -deltas.where(deltas < 0, 0)\n",
    "    avg_gains = gains.rolling(window=period).mean()\n",
    "    avg_losses = losses.rolling(window=period).mean()\n",
    "    rs = avg_gains / avg_losses\n",
    "    rsi = 100 - (100 / (1 + rs))\n",
    "    return rsi\n",
    "\n",
    "rsi_series = calc_rsi_series(data['Close'])\n",
    "\n",
    "# Plot\n",
    "fig, (ax1, ax2) = plt.subplots(2, 1, figsize=(14, 8), sharex=True)\n",
    "\n",
    "# Price plot\n",
    "ax1.plot(data.index, data['Close'], label='Close Price')\n",
    "ax1.set_ylabel('Price ($)')\n",
    "ax1.set_title(f'{ticker} Price and RSI Indicator')\n",
    "ax1.legend()\n",
    "ax1.grid(True, alpha=0.3)\n",
    "\n",
    "# RSI plot\n",
    "ax2.plot(data.index, rsi_series, label='RSI(14)', color='purple')\n",
    "ax2.axhline(y=70, color='r', linestyle='--', label='Overbought (70)')\n",
    "ax2.axhline(y=30, color='g', linestyle='--', label='Oversold (30)')\n",
    "ax2.fill_between(data.index, 30, 70, alpha=0.1, color='gray')\n",
    "ax2.set_ylabel('RSI')\n",
    "ax2.set_xlabel('Date')\n",
    "ax2.legend()\n",
    "ax2.grid(True, alpha=0.3)\n",
    "ax2.set_ylim(0, 100)\n",
    "\n",
    "plt.tight_layout()\n",
    "plt.show()"
   ]
  },
  {
   "cell_type": "markdown",
   "metadata": {},
   "source": [
    "## 4. Run Backtest with Default Parameters"
   ]
  },
  {
   "cell_type": "code",
   "execution_count": null,
   "metadata": {},
   "outputs": [],
   "source": [
    "# Configure backtest\n",
    "config = BacktestConfig(\n",
    "    initial_capital=10000.0,\n",
    "    lookback_period=50,\n",
    "    commission_type=\"percentage\",\n",
    "    commission_value=0.001,\n",
    "    execution_price=\"open\",\n",
    "    risk_free_rate=0.02,\n",
    ")\n",
    "\n",
    "# Create and run RSI strategy\n",
    "rsi_strategy = RSIStrategy(period=14, oversold=30, overbought=70, shares=50)\n",
    "\n",
    "backtest = Backtest(data=data, config=config)\n",
    "results = backtest.run([rsi_strategy])\n",
    "\n",
    "# Display metrics\n",
    "print(\"\\n=== RSI Strategy Results ===\")\n",
    "for key, value in results[rsi_strategy.get_name()]['metrics'].items():\n",
    "    print(f\"{key:25s}: {value:>12.2f}\")"
   ]
  },
  {
   "cell_type": "code",
   "execution_count": null,
   "metadata": {},
   "outputs": [],
   "source": [
    "# Plot equity curve\n",
    "fig = plot_equity_curve(results)\n",
    "fig.show()"
   ]
  },
  {
   "cell_type": "markdown",
   "metadata": {},
   "source": [
    "## 5. Parameter Optimization\n",
    "\n",
    "Test different RSI parameters to find optimal settings."
   ]
  },
  {
   "cell_type": "code",
   "execution_count": null,
   "metadata": {},
   "outputs": [],
   "source": [
    "# Test different RSI periods and thresholds\n",
    "strategies = []\n",
    "\n",
    "# Test different periods\n",
    "for period in [7, 14, 21]:\n",
    "    strategies.append(RSIStrategy(period=period, oversold=30, overbought=70, shares=50))\n",
    "\n",
    "# Test different thresholds\n",
    "strategies.append(RSIStrategy(period=14, oversold=20, overbought=80, shares=50))\n",
    "strategies.append(RSIStrategy(period=14, oversold=40, overbought=60, shares=50))\n",
    "\n",
    "# Run all strategies\n",
    "backtest = Backtest(data=data, config=config)\n",
    "results = backtest.run(strategies)\n",
    "\n",
    "# Compare results\n",
    "comparison_df = pd.DataFrame({\n",
    "    name: res['metrics'] \n",
    "    for name, res in results.items() \n",
    "    if name != 'benchmark'\n",
    "}).T\n",
    "\n",
    "print(\"\\n=== RSI Parameter Comparison ===\")\n",
    "comparison_df[['total_return', 'sharpe_ratio', 'max_drawdown', 'win_rate', 'total_trades']].sort_values('sharpe_ratio', ascending=False)"
   ]
  },
  {
   "cell_type": "code",
   "execution_count": null,
   "metadata": {},
   "outputs": [],
   "source": [
    "# Plot all equity curves\n",
    "fig = plot_equity_curve(results)\n",
    "fig.show()"
   ]
  },
  {
   "cell_type": "markdown",
   "metadata": {},
   "source": [
    "## 6. Analyze Trade Distribution"
   ]
  },
  {
   "cell_type": "code",
   "execution_count": null,
   "metadata": {},
   "outputs": [],
   "source": [
    "# Get best performing strategy\n",
    "best_strategy = comparison_df['sharpe_ratio'].idxmax()\n",
    "trades = results[best_strategy]['trade_history']\n",
    "\n",
    "# Analyze trades\n",
    "trades_df = pd.DataFrame(trades)\n",
    "sell_trades = trades_df[trades_df['signal'] == 'sell']\n",
    "\n",
    "# Plot P&L distribution\n",
    "plt.figure(figsize=(12, 5))\n",
    "\n",
    "plt.subplot(1, 2, 1)\n",
    "plt.hist(sell_trades['pnl'], bins=20, edgecolor='black', alpha=0.7)\n",
    "plt.axvline(x=0, color='r', linestyle='--', label='Break-even')\n",
    "plt.xlabel('Profit/Loss ($)')\n",
    "plt.ylabel('Frequency')\n",
    "plt.title(f'Trade P&L Distribution - {best_strategy}')\n",
    "plt.legend()\n",
    "plt.grid(True, alpha=0.3)\n",
    "\n",
    "plt.subplot(1, 2, 2)\n",
    "cumulative_pnl = sell_trades['pnl'].cumsum()\n",
    "plt.plot(cumulative_pnl.values)\n",
    "plt.xlabel('Trade Number')\n",
    "plt.ylabel('Cumulative P&L ($)')\n",
    "plt.title('Cumulative P&L over Trades')\n",
    "plt.grid(True, alpha=0.3)\n",
    "\n",
    "plt.tight_layout()\n",
    "plt.show()\n",
    "\n",
    "print(f\"\\nBest Strategy: {best_strategy}\")\n",
    "print(f\"Win Rate: {(sell_trades['pnl'] > 0).sum() / len(sell_trades) * 100:.1f}%\")\n",
    "print(f\"Average Win: ${sell_trades[sell_trades['pnl'] > 0]['pnl'].mean():.2f}\")\n",
    "print(f\"Average Loss: ${sell_trades[sell_trades['pnl'] <= 0]['pnl'].mean():.2f}\")"
   ]
  }
 ],
 "metadata": {
  "kernelspec": {
   "display_name": "Python 3",
   "language": "python",
   "name": "python3"
  },
  "language_info": {
   "codemirror_mode": {
    "name": "ipython",
    "version": 3
   },
   "file_extension": ".py",
   "mimetype": "text/x-python",
   "name": "python",
   "nbconvert_exporter": "python",
   "pygments_lexer": "ipython3",
   "version": "3.10.0"
  }
 },
 "nbformat": 4,
 "nbformat_minor": 4
}
